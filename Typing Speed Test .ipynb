{
 "cells": [
  {
   "cell_type": "code",
   "execution_count": 6,
   "id": "a017468f",
   "metadata": {},
   "outputs": [],
   "source": [
    "from time import time"
   ]
  },
  {
   "cell_type": "code",
   "execution_count": 7,
   "id": "c299e0d1",
   "metadata": {},
   "outputs": [],
   "source": [
    "# calculate the accuracy of input prompt\n",
    "def typingErrors(prompt):\n",
    "    global iwords\n",
    "\n",
    "    words = prompt.split()\n",
    "    errors = 0\n",
    "\n",
    "    for i in range(len(iwords)):\n",
    "        if i in (0, len(iwords)-1):\n",
    "            if iwords[i] == words[i]:\n",
    "                continue\n",
    "            else:\n",
    "                errors +=1\n",
    "        else:\n",
    "            if iwords[i] == words[i]:\n",
    "                if (iwords[i+1] == words[i+1]) & (iwords[i-1] == words[i-1]):\n",
    "                    continue\n",
    "                else:\n",
    "                    errors += 1\n",
    "            else:\n",
    "                errors += 1\n",
    "    return errors\n"
   ]
  },
  {
   "cell_type": "code",
   "execution_count": 8,
   "id": "1437e3c4",
   "metadata": {},
   "outputs": [],
   "source": [
    "# calculate the speed in words per minute\n",
    "def typingSpeed(iprompt, stime, etime):\n",
    "    global time\n",
    "    global iwords\n",
    "\n",
    "    iwords = iprompt.split()\n",
    "    twords = len(iwords)\n",
    "    speed = twords / time\n",
    "\n",
    "    return speed"
   ]
  },
  {
   "cell_type": "code",
   "execution_count": null,
   "id": "40c26a0f",
   "metadata": {},
   "outputs": [],
   "source": [
    "# calculate total time elapsed\n",
    "def timeElapsed(stime, etime):\n",
    "    time = etime - stime\n",
    "\n",
    "    return time\n",
    "\n",
    "if __name__ == '__main__':\n",
    "    prompt = \"Hi, my name is Shubham, I am a Data Scientist.\"\n",
    "    print(\"Type this:- '\", prompt, \"'\")\n",
    "\n",
    "    # listening to input ENTER\n",
    "    input(\"press ENTER when you are ready!\")\n",
    "\n",
    "    # recording time for input\n",
    "    stime = time()\n",
    "    iprompt = input()\n",
    "    etime = time()"
   ]
  },
  {
   "cell_type": "code",
   "execution_count": null,
   "id": "66c8bf1e",
   "metadata": {},
   "outputs": [],
   "source": [
    "# gather all the information returned from functions\n",
    "    time = round(timeElapsed(stime, etime), 2)\n",
    "    speed = typingSpeed(iprompt, stime, etime)\n",
    "    errors = typingErrors(prompt)\n",
    "\n",
    "    # printing all the required data\n",
    "    print(\"Total Time elapsed : \", time, \"s\")\n",
    "    print(\"Your Average Typing Speed was : \", speed, \"words / minute\")\n",
    "    print(\"With a total of : \", errors, \"errors\")\n"
   ]
  }
 ],
 "metadata": {
  "kernelspec": {
   "display_name": "Python 3",
   "language": "python",
   "name": "python3"
  },
  "language_info": {
   "codemirror_mode": {
    "name": "ipython",
    "version": 3
   },
   "file_extension": ".py",
   "mimetype": "text/x-python",
   "name": "python",
   "nbconvert_exporter": "python",
   "pygments_lexer": "ipython3",
   "version": "3.8.8"
  }
 },
 "nbformat": 4,
 "nbformat_minor": 5
}
